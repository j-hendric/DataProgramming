{
 "cells": [
  {
   "cell_type": "markdown",
   "metadata": {},
   "source": [
    "# Data Programming in Python | BAIS:6040\n",
    "# Module 8. Data Visualization with Matplotlib and Ipywidgets"
   ]
  },
  {
   "cell_type": "markdown",
   "metadata": {},
   "source": [
    "Written by Kang-Pyo Lee \n",
    "\n",
    "Topics to be covered:\n",
    "- Data Visualization Using Pandas\n",
    "- Plotting Basic Plots\n",
    "- Interactive Visualization Using Ipywidgets\n",
    "- Exercises"
   ]
  },
  {
   "cell_type": "code",
   "execution_count": null,
   "metadata": {},
   "outputs": [],
   "source": [
    "# ! pip install --user --upgrade  ipywidgets matplotlib\n",
    "# ! jupyter nbextension enable --py widgetsnbextension"
   ]
  },
  {
   "cell_type": "markdown",
   "metadata": {},
   "source": [
    "## Data Visualization Using Pandas"
   ]
  },
  {
   "cell_type": "markdown",
   "metadata": {},
   "source": [
    "The <b>pandas.Series.plot</b> and <b>pandas.DataFrame.plot</b> methods provide basic but convenient visualization functionality. They are, in fact, a simple wrapper around <b>matplotlib.pyplot.plot</b> in the matplotlib package. "
   ]
  },
  {
   "cell_type": "code",
   "execution_count": null,
   "metadata": {},
   "outputs": [],
   "source": [
    "import numpy as np\n",
    "import pandas as pd \n",
    "\n",
    "np.random.seed(0)\n",
    "series = pd.Series(np.random.randint(1, 101, 10))   # from an array with 10 random integers between 1 and 100 \n",
    "series"
   ]
  },
  {
   "cell_type": "code",
   "execution_count": null,
   "metadata": {},
   "outputs": [],
   "source": [
    "series.plot(kind=\"line\")"
   ]
  },
  {
   "cell_type": "markdown",
   "metadata": {},
   "source": [
    "pandas.Series.plot: https://pandas.pydata.org/pandas-docs/stable/reference/api/pandas.Series.plot.html"
   ]
  },
  {
   "cell_type": "markdown",
   "metadata": {},
   "source": [
    "When plotting a plot on a Pandas series using the <b>plot</b> method, the x axis is the index of the series, and the y axis is its values."
   ]
  },
  {
   "cell_type": "markdown",
   "metadata": {},
   "source": [
    "`kind`: str\n",
    "- line: line plot (default)\n",
    "- bar: vertical bar plot\n",
    "- barh: horizontal bar plot\n",
    "- hist: histogram\n",
    "- scatter: scatter plot\n",
    "- box: boxplot\n",
    "- kde: Kernel Density Estimation plot\n",
    "- density: same as ‘kde’\n",
    "- area: area plot\n",
    "- pie: pie plot"
   ]
  },
  {
   "cell_type": "code",
   "execution_count": null,
   "metadata": {},
   "outputs": [],
   "source": [
    "series.plot(kind=\"line\", title=\"Line Chart\", grid=True, figsize=(10,5))"
   ]
  },
  {
   "cell_type": "code",
   "execution_count": null,
   "metadata": {
    "scrolled": true
   },
   "outputs": [],
   "source": [
    "np.random.seed(0)\n",
    "df = pd.DataFrame(np.random.randint(1, 101, (10,3)),  # from a 10 x 3 array with random integers between 1 and 100\n",
    "                  columns=[\"a\", \"b\", \"c\"])\n",
    "df"
   ]
  },
  {
   "cell_type": "code",
   "execution_count": null,
   "metadata": {},
   "outputs": [],
   "source": [
    "df.plot(kind=\"line\")"
   ]
  },
  {
   "cell_type": "markdown",
   "metadata": {},
   "source": [
    "pandas.DataFrame.plot: https://pandas.pydata.org/pandas-docs/stable/reference/api/pandas.DataFrame.plot.html"
   ]
  },
  {
   "cell_type": "markdown",
   "metadata": {},
   "source": [
    "When plotting a plot on a Pandas dataframe using the <b>plot</b> method, the x axis is the index of the dataframe, and the y axis is the values of the columns in the dataframe. In this example, there are 3 lines that correspond to the 3 columns."
   ]
  },
  {
   "cell_type": "code",
   "execution_count": null,
   "metadata": {
    "scrolled": true
   },
   "outputs": [],
   "source": [
    "df[[\"b\", \"c\"]].plot(kind=\"line\")"
   ]
  },
  {
   "cell_type": "markdown",
   "metadata": {},
   "source": [
    "You can select some of the columns you are interested in. "
   ]
  },
  {
   "cell_type": "markdown",
   "metadata": {},
   "source": [
    "<hr>"
   ]
  },
  {
   "cell_type": "markdown",
   "metadata": {},
   "source": [
    "## Plotting Basic Plots"
   ]
  },
  {
   "cell_type": "markdown",
   "metadata": {},
   "source": [
    "SeanLahman.com (http://www.seanlahman.com/baseball-archive/statistics/)"
   ]
  },
  {
   "cell_type": "code",
   "execution_count": null,
   "metadata": {},
   "outputs": [],
   "source": [
    "dfb = pd.read_csv(\"classdata/MLB_Batting.csv\")\n",
    "dfb"
   ]
  },
  {
   "cell_type": "markdown",
   "metadata": {},
   "source": [
    "Each row refers to a batter playing in MLB. "
   ]
  },
  {
   "cell_type": "raw",
   "metadata": {},
   "source": [
    "# Data Dictionary (Variable, Definition)\n",
    "playerID       Player ID code\n",
    "yearID         Year\n",
    "stint          player's stint (order of appearances within a season)\n",
    "teamID         Team\n",
    "lgID           League\n",
    "G              Games\n",
    "AB             At Bats\n",
    "R              Runs\n",
    "H              Hits\n",
    "2B             Doubles\n",
    "3B             Triples\n",
    "HR             Homeruns\n",
    "RBI            Runs Batted In\n",
    "SB             Stolen Bases\n",
    "CS             Caught Stealing\n",
    "BB             Base on Balls\n",
    "SO             Strikeouts\n",
    "IBB            Intentional walks\n",
    "HBP            Hit by pitch\n",
    "SH             Sacrifice hits\n",
    "SF             Sacrifice flies\n",
    "GIDP           Grounded into double plays"
   ]
  },
  {
   "cell_type": "code",
   "execution_count": null,
   "metadata": {},
   "outputs": [],
   "source": [
    "dfb.info()"
   ]
  },
  {
   "cell_type": "code",
   "execution_count": null,
   "metadata": {},
   "outputs": [],
   "source": [
    "dfb.head()"
   ]
  },
  {
   "cell_type": "code",
   "execution_count": null,
   "metadata": {},
   "outputs": [],
   "source": [
    "dfb.tail()"
   ]
  },
  {
   "cell_type": "code",
   "execution_count": null,
   "metadata": {},
   "outputs": [],
   "source": [
    "dfb.yearID.value_counts()                    # Count the number of rows by year."
   ]
  },
  {
   "cell_type": "markdown",
   "metadata": {},
   "source": [
    "pandas.Series.value_counts: https://pandas.pydata.org/pandas-docs/stable/reference/api/pandas.Series.value_counts.html"
   ]
  },
  {
   "cell_type": "code",
   "execution_count": null,
   "metadata": {},
   "outputs": [],
   "source": [
    "dfb.yearID.value_counts().sort_index()"
   ]
  },
  {
   "cell_type": "code",
   "execution_count": null,
   "metadata": {},
   "outputs": [],
   "source": [
    "dfb.lgID.value_counts()                       # Count the number of rows by league."
   ]
  },
  {
   "cell_type": "code",
   "execution_count": null,
   "metadata": {},
   "outputs": [],
   "source": [
    "dfb19 = dfb[(dfb.yearID == 2019) & ((dfb.lgID == \"NL\") | (dfb.lgID == \"AL\"))]\n",
    "dfb19"
   ]
  },
  {
   "cell_type": "markdown",
   "metadata": {},
   "source": [
    "We would like to select the rows in which the `yearID` is 2019 and the `lgID`  is either *NL* or *AL*."
   ]
  },
  {
   "cell_type": "code",
   "execution_count": null,
   "metadata": {},
   "outputs": [],
   "source": [
    "dfb19.shape"
   ]
  },
  {
   "cell_type": "code",
   "execution_count": null,
   "metadata": {
    "scrolled": false
   },
   "outputs": [],
   "source": [
    "dfb19.info()"
   ]
  },
  {
   "cell_type": "code",
   "execution_count": null,
   "metadata": {
    "scrolled": false
   },
   "outputs": [],
   "source": [
    "dfb19.H.plot(kind=\"line\", figsize=(15,7), grid=True, legend=True)"
   ]
  },
  {
   "cell_type": "markdown",
   "metadata": {},
   "source": [
    "The x axis is the index of the series, which is the index of the dataframe, while the y axis is the values of the series. "
   ]
  },
  {
   "cell_type": "code",
   "execution_count": null,
   "metadata": {},
   "outputs": [],
   "source": [
    "dfb19.H.plot(kind=\"hist\", bins=30, grid=True, figsize=(15,7))"
   ]
  },
  {
   "cell_type": "markdown",
   "metadata": {},
   "source": [
    "A histogram is a representation of the distribution of data. The function groups the values of a series into bins, counts the values in each bin, and then plots a histrogram with all bins in the x axis and their counts in the y axis."
   ]
  },
  {
   "cell_type": "markdown",
   "metadata": {},
   "source": [
    "Many of the values are in the first bin that contains values from 0 to 5 or so, which means many batters make at most 5 hits in the season of 2019. "
   ]
  },
  {
   "cell_type": "code",
   "execution_count": null,
   "metadata": {},
   "outputs": [],
   "source": [
    "dfb19.H.plot(kind=\"hist\", bins=30, cumulative=True, grid=True, figsize=(15,7))"
   ]
  },
  {
   "cell_type": "markdown",
   "metadata": {},
   "source": [
    "A cumulative histogram is a cumulative representation of the distribution of data."
   ]
  },
  {
   "cell_type": "code",
   "execution_count": null,
   "metadata": {
    "scrolled": false
   },
   "outputs": [],
   "source": [
    "from IPython.display import Image\n",
    "\n",
    "Image(url=\"http://www.datavizcatalogue.com/methods/images/anatomy/box_plot.png\")"
   ]
  },
  {
   "cell_type": "markdown",
   "metadata": {},
   "source": [
    "A box plot is a method for graphically depicting groups of numerical data through their quartiles (Q1, Q2, and Q3). The box extends from the Q1 to Q3 quartile values of the data, with a line at the median (Q2). The whiskers extend from the edges of box to show the range of the data. The position of the whiskers is set by default to 1.5 * IQR (IQR = Q3 - Q1) from the edges of the box. Outlier points are those past the end of the whiskers."
   ]
  },
  {
   "cell_type": "code",
   "execution_count": null,
   "metadata": {},
   "outputs": [],
   "source": [
    "dfb19[[\"AB\", \"H\", \"2B\", \"3B\", \"HR\", \"BB\", \"SO\"]].plot(kind=\"box\", grid=True, figsize=(15,7))"
   ]
  },
  {
   "cell_type": "code",
   "execution_count": null,
   "metadata": {},
   "outputs": [],
   "source": [
    "dfb19[[\"AB\", \"H\", \"2B\", \"3B\", \"HR\", \"BB\", \"SO\"]].plot(kind=\"box\", vert=False, grid=True, figsize=(15,7))"
   ]
  },
  {
   "cell_type": "code",
   "execution_count": null,
   "metadata": {},
   "outputs": [],
   "source": [
    "dfb19.plot(kind='scatter', x='H', y='HR', grid=True, figsize=(10,10))"
   ]
  },
  {
   "cell_type": "markdown",
   "metadata": {},
   "source": [
    "A scatter plot is a two-dimensional data visualization that uses dots to represent the values obtained for two different variables - one plotted along the x axis and the other plotted along the y axis. This kind of plot is useful for visualizing correlations between two variables. \n",
    "\n",
    "- Positive correlation: as one variable increases so does the other (dots spreading from bottom left to top right)\n",
    "- Negative Correlation: as one variable increases, the other decreases (dots spreading from top left to bottom right)\n",
    "- No correlation: there is no apparent relationship between the two variables (dots randomly spreading)"
   ]
  },
  {
   "cell_type": "code",
   "execution_count": null,
   "metadata": {},
   "outputs": [],
   "source": [
    "dfb19.plot(kind='scatter', x='HR', y='SO', grid=True, figsize=(10,10))"
   ]
  },
  {
   "cell_type": "code",
   "execution_count": null,
   "metadata": {
    "scrolled": false
   },
   "outputs": [],
   "source": [
    "pd.plotting.scatter_matrix(dfb19[[\"AB\", \"H\", \"2B\", \"3B\", \"HR\", \"BB\", \"SO\"]], figsize=(10,10), diagonal=\"hist\")"
   ]
  },
  {
   "cell_type": "markdown",
   "metadata": {},
   "source": [
    "pandas.plotting.scatter_matrix: https://pandas.pydata.org/pandas-docs/stable/reference/api/pandas.plotting.scatter_matrix.html"
   ]
  },
  {
   "cell_type": "markdown",
   "metadata": {},
   "source": [
    "A scatter matrix is a pair-wise scatter plot of several variables presented in a matrix format. "
   ]
  },
  {
   "cell_type": "code",
   "execution_count": null,
   "metadata": {
    "scrolled": true
   },
   "outputs": [],
   "source": [
    "dfb19[[\"AB\", \"H\", \"2B\", \"3B\", \"HR\", \"BB\", \"SO\"]].corr()"
   ]
  },
  {
   "cell_type": "markdown",
   "metadata": {},
   "source": [
    "pandas.DataFrame.corr: https://pandas.pydata.org/pandas-docs/stable/reference/api/pandas.DataFrame.corr.html"
   ]
  },
  {
   "cell_type": "markdown",
   "metadata": {},
   "source": [
    "The <b>corr()</b> method computes pairwise correlation of columns. The closer the corrleation coefficient is to 1, the stronger the positive correlation is. Likewise, the closer it is to -1, the stronger the negative correlation is. "
   ]
  },
  {
   "cell_type": "markdown",
   "metadata": {},
   "source": [
    "`method`: {'pearson', 'kendall', 'spearman'}\n",
    "- pearson: standard correlation coefficient (default)\n",
    "- kendall: Kendall Tau correlation coefficient\n",
    "- spearman : Spearman rank correlation"
   ]
  },
  {
   "cell_type": "code",
   "execution_count": null,
   "metadata": {},
   "outputs": [],
   "source": [
    "count = dfb19.groupby(\"teamID\").HR.sum()\n",
    "count"
   ]
  },
  {
   "cell_type": "code",
   "execution_count": null,
   "metadata": {},
   "outputs": [],
   "source": [
    "count = count.sort_values(ascending=False)\n",
    "count"
   ]
  },
  {
   "cell_type": "code",
   "execution_count": null,
   "metadata": {},
   "outputs": [],
   "source": [
    "count.plot(kind=\"bar\", title=\"Home Runs by Team\", grid=True, figsize=(15,5))"
   ]
  },
  {
   "cell_type": "code",
   "execution_count": null,
   "metadata": {},
   "outputs": [],
   "source": [
    "count.plot(kind=\"barh\", title=\"Home Runs by Team\", grid=True, figsize=(10,10))"
   ]
  },
  {
   "cell_type": "code",
   "execution_count": null,
   "metadata": {},
   "outputs": [],
   "source": [
    "count = dfb19.groupby(\"lgID\").H.sum()\n",
    "count"
   ]
  },
  {
   "cell_type": "code",
   "execution_count": null,
   "metadata": {},
   "outputs": [],
   "source": [
    "count.plot(kind=\"pie\", title=\"Hits: AL vs. NL\", figsize=(5,5), autopct='%.1f', fontsize=13)"
   ]
  },
  {
   "cell_type": "markdown",
   "metadata": {},
   "source": [
    "<hr>"
   ]
  },
  {
   "cell_type": "markdown",
   "metadata": {},
   "source": [
    "## Interactive Visualization Using Ipywidgets"
   ]
  },
  {
   "cell_type": "markdown",
   "metadata": {},
   "source": [
    "Interactive visualization allows users to interactively update the current plot by changing its parameter values. Ipywidgets are interactive HTML widgets for Jupyter notebooks and the IPython kernel."
   ]
  },
  {
   "cell_type": "code",
   "execution_count": null,
   "metadata": {},
   "outputs": [],
   "source": [
    "from ipywidgets import widgets, interactive, Layout"
   ]
  },
  {
   "cell_type": "markdown",
   "metadata": {},
   "source": [
    "### ToggleButtons Widget"
   ]
  },
  {
   "cell_type": "code",
   "execution_count": null,
   "metadata": {},
   "outputs": [],
   "source": [
    "w = widgets.ToggleButtons(\n",
    "    description = 'Speed:',\n",
    "    options = ['Slow', 'Regular', 'Fast'],\n",
    "    value = 'Slow',\n",
    "    style = {\"description_width\": '50px'},\n",
    "    layout = Layout(width=\"70%\")\n",
    ")\n",
    "\n",
    "display(w)"
   ]
  },
  {
   "cell_type": "markdown",
   "metadata": {},
   "source": [
    "ToggleButtons Widget: https://ipywidgets.readthedocs.io/en/stable/examples/Widget%20List.html#ToggleButtons"
   ]
  },
  {
   "cell_type": "markdown",
   "metadata": {},
   "source": [
    "Widgets are eventful Python objects that have a representation in the browser, often as a control like a slider, textbox, etc."
   ]
  },
  {
   "cell_type": "code",
   "execution_count": null,
   "metadata": {},
   "outputs": [],
   "source": [
    "w.value"
   ]
  },
  {
   "cell_type": "markdown",
   "metadata": {},
   "source": [
    "The <b>value</b> attribute of the widget holds the selected value. "
   ]
  },
  {
   "cell_type": "code",
   "execution_count": null,
   "metadata": {},
   "outputs": [],
   "source": [
    "w_league = widgets.ToggleButtons(\n",
    "    description = 'League:',\n",
    "    options = ['AL', 'NL', 'Both'],\n",
    "    value = 'Both',\n",
    "    style = {\"description_width\": '50px'},\n",
    "    layout = Layout(width=\"70%\")\n",
    ")\n",
    "\n",
    "display(w_league)"
   ]
  },
  {
   "cell_type": "code",
   "execution_count": null,
   "metadata": {
    "scrolled": false
   },
   "outputs": [],
   "source": [
    "w_league.value"
   ]
  },
  {
   "cell_type": "code",
   "execution_count": null,
   "metadata": {},
   "outputs": [],
   "source": [
    "if w_league.value == \"Both\":                         # If the user has selected 'Both',\n",
    "    df_tmp = dfb19                                   # select the entire dataframe.\n",
    "else:                                                # If the user has selected either 'AL' or 'NL',\n",
    "    df_tmp = dfb19[dfb19.lgID == w_league.value]     # select the rows with the selected league.\n",
    "\n",
    "title = \"Batting Stats for {}\".format(w_league.value)\n",
    "df_tmp[[\"AB\", \"H\", \"2B\", \"3B\", \"HR\", \"BB\", \"SO\"]].plot(kind=\"box\", title=title, grid=True, figsize=(15,7))"
   ]
  },
  {
   "cell_type": "markdown",
   "metadata": {},
   "source": [
    "### Make It Interactive!"
   ]
  },
  {
   "cell_type": "markdown",
   "metadata": {},
   "source": [
    "We want to allow users to interactively select one of the two leagues, so they can compare the distributions of key batter metrics for that league. "
   ]
  },
  {
   "cell_type": "code",
   "execution_count": null,
   "metadata": {},
   "outputs": [],
   "source": [
    "w_league = widgets.ToggleButtons(\n",
    "    description = 'League:',\n",
    "    options = ['Both', 'AL', 'NL'],\n",
    "    value = 'Both',\n",
    "    style = {\"description_width\": '50px'},\n",
    "    layout = Layout(width=\"70%\")\n",
    ")\n",
    "\n",
    "def view(league):\n",
    "    if league == \"Both\":\n",
    "        df_tmp = dfb19\n",
    "    else:\n",
    "        df_tmp = dfb19[dfb19.lgID == league]\n",
    "    \n",
    "    title = \"Batting Stats of {}\".format(league)\n",
    "    df_tmp[[\"AB\", \"H\", \"2B\", \"3B\", \"HR\", \"BB\", \"SO\"]].plot(kind=\"box\", title=title, grid=True, figsize=(15,7))\n",
    "\n",
    "i = interactive(view, league=w_league)     # The value of the widget is passed to the view function as a parameter value.\n",
    "display(i)"
   ]
  },
  {
   "cell_type": "markdown",
   "metadata": {},
   "source": [
    "### Dropdown Widget"
   ]
  },
  {
   "cell_type": "code",
   "execution_count": null,
   "metadata": {},
   "outputs": [],
   "source": [
    "w = widgets.Dropdown(\n",
    "    description = 'Speed:',\n",
    "    options = ['Slow', 'Regular', 'Fast'],\n",
    "    value = 'Slow',\n",
    "    style = {\"description_width\": '50px'},\n",
    "    layout = Layout(width=\"20%\")\n",
    ")\n",
    "\n",
    "display(w)"
   ]
  },
  {
   "cell_type": "markdown",
   "metadata": {},
   "source": [
    "Dropdown Widget: https://ipywidgets.readthedocs.io/en/stable/examples/Widget%20List.html#Dropdown"
   ]
  },
  {
   "cell_type": "code",
   "execution_count": null,
   "metadata": {
    "scrolled": true
   },
   "outputs": [],
   "source": [
    "w.value"
   ]
  },
  {
   "cell_type": "markdown",
   "metadata": {},
   "source": [
    "We want to allow users to interactively select one of the teams, so they can compare the distributions of key batter metrics for that team. "
   ]
  },
  {
   "cell_type": "code",
   "execution_count": null,
   "metadata": {},
   "outputs": [],
   "source": [
    "sorted(set(dfb19.teamID))"
   ]
  },
  {
   "cell_type": "code",
   "execution_count": null,
   "metadata": {},
   "outputs": [],
   "source": [
    "w_team = widgets.Dropdown(\n",
    "    description = 'Team:',\n",
    "    options = [\"All\"] + sorted(set(dfb19.teamID)),    # a sorted list of unique teamIDs plus All\n",
    "    value = \"All\",\n",
    "    style = {\"description_width\": '50px'},\n",
    "    layout = Layout(width=\"15%\")\n",
    ")\n",
    "\n",
    "def view(team):\n",
    "    if team == \"All\":\n",
    "        df_tmp = dfb19\n",
    "    else:\n",
    "        df_tmp = dfb19[dfb19.teamID == team]\n",
    "\n",
    "    title = \"Batting Stats of {}\".format(team)\n",
    "    df_tmp[[\"AB\", \"H\", \"2B\", \"3B\", \"HR\", \"BB\", \"SO\"]].plot(kind=\"box\", title=title, grid=True, figsize=(15,7))\n",
    "\n",
    "i = interactive(view, team=w_team)\n",
    "display(i)"
   ]
  },
  {
   "cell_type": "markdown",
   "metadata": {},
   "source": [
    "### Toggle Buttons & Dropdown Widgets"
   ]
  },
  {
   "cell_type": "markdown",
   "metadata": {},
   "source": [
    "We want to allow users to interactively select the year and the team that they're interested in, so they can check the raw records for that year and the team."
   ]
  },
  {
   "cell_type": "code",
   "execution_count": null,
   "metadata": {},
   "outputs": [],
   "source": [
    "w_year = widgets.ToggleButtons(\n",
    "    description = 'Year:',\n",
    "    options = [2016, 2017, 2018, 2019, 2020],\n",
    "    value = 2019,\n",
    "    style = {\"description_width\": '50px'},\n",
    "    layout = Layout(width=\"90%\")\n",
    ")\n",
    "\n",
    "w_team = widgets.Dropdown(\n",
    "    description = 'Team:',\n",
    "    options = [\"All\"] + sorted(set(dfb19.teamID)),\n",
    "    value = \"All\",\n",
    "    style = {\"description_width\": '50px'},\n",
    "    layout = Layout(width=\"15%\")\n",
    ")\n",
    "\n",
    "def view(year, team):\n",
    "    if team == \"All\":\n",
    "        df_tmp = dfb[dfb.yearID == year]\n",
    "    else:\n",
    "        df_tmp = dfb[(dfb.yearID == year) & (dfb.teamID == team)]\n",
    "\n",
    "    display(df_tmp)\n",
    "\n",
    "i = interactive(view, year=w_year, team=w_team)\n",
    "display(i)"
   ]
  },
  {
   "cell_type": "markdown",
   "metadata": {},
   "source": [
    "### Text Widget"
   ]
  },
  {
   "cell_type": "code",
   "execution_count": null,
   "metadata": {},
   "outputs": [],
   "source": [
    "w = widgets.Text(\n",
    "    description = 'String:',\n",
    "    value = 'Hello World',\n",
    "    style = {\"description_width\": '50px'},\n",
    "    layout = Layout(width=\"30%\")\n",
    ")\n",
    "\n",
    "display(w)"
   ]
  },
  {
   "cell_type": "markdown",
   "metadata": {},
   "source": [
    "Text Widget: https://ipywidgets.readthedocs.io/en/stable/examples/Widget%20List.html#Text"
   ]
  },
  {
   "cell_type": "code",
   "execution_count": null,
   "metadata": {},
   "outputs": [],
   "source": [
    "w.value"
   ]
  },
  {
   "cell_type": "markdown",
   "metadata": {},
   "source": [
    "We want to allow users to interactively type a search term, so they can search the `text` column in `dft` for the term."
   ]
  },
  {
   "cell_type": "code",
   "execution_count": null,
   "metadata": {},
   "outputs": [],
   "source": [
    "dft = pd.read_csv(\"classdata/timeline_cnnbrk.csv\", sep=\"\\t\")\n",
    "pd.set_option('display.max_colwidth', 150)\n",
    "dft"
   ]
  },
  {
   "cell_type": "code",
   "execution_count": null,
   "metadata": {
    "scrolled": false
   },
   "outputs": [],
   "source": [
    "w_string = widgets.Text(\n",
    "    description = 'String:',\n",
    "    style = {\"description_width\": '50px'},\n",
    "    layout = Layout(width=\"90%\")\n",
    ")\n",
    "\n",
    "def view(string):\n",
    "    mask = dft.text.str.contains(string, case=False)\n",
    "    display(dft[mask])\n",
    "\n",
    "i = interactive(view, string=w_string)\n",
    "display(i)"
   ]
  },
  {
   "cell_type": "markdown",
   "metadata": {},
   "source": [
    "Note that you can use interactive visualization using Ipywidgets only in a notebook environment. In other words, you lose the interactive functionality once you convert it to HTML or other formats. "
   ]
  },
  {
   "cell_type": "markdown",
   "metadata": {},
   "source": [
    "## Exercises for Visualization"
   ]
  }
 ],
 "metadata": {
  "kernelspec": {
   "display_name": "Python 3",
   "language": "python",
   "name": "python3"
  },
  "language_info": {
   "codemirror_mode": {
    "name": "ipython",
    "version": 3
   },
   "file_extension": ".py",
   "mimetype": "text/x-python",
   "name": "python",
   "nbconvert_exporter": "python",
   "pygments_lexer": "ipython3",
   "version": "3.8.0"
  }
 },
 "nbformat": 4,
 "nbformat_minor": 1
}
