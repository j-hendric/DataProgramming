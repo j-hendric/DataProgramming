{
 "cells": [
  {
   "cell_type": "markdown",
   "metadata": {},
   "source": [
    "# Data Programming in Python | BAIS:6040\n",
    "# Module 6. Handling Files"
   ]
  },
  {
   "cell_type": "markdown",
   "metadata": {},
   "source": [
    "Written by Kang-Pyo Lee \n",
    "\n",
    "Topics to be covered:\n",
    "- Useful operating system functionality\n",
    "- Writing and reading a file (+ exercises)\n",
    "- Writing and reading a CSV file using Pandas\n",
    "- Writing and reading a JSON file (+ exercises)"
   ]
  },
  {
   "cell_type": "markdown",
   "metadata": {},
   "source": [
    "## Useful Operating System-Dependent Functions for Files"
   ]
  },
  {
   "cell_type": "code",
   "execution_count": null,
   "metadata": {},
   "outputs": [],
   "source": [
    "import os"
   ]
  },
  {
   "cell_type": "markdown",
   "metadata": {},
   "source": [
    "The <b>os</b> module provides a portable way of using operating system dependent functionality for handling files and directories."
   ]
  },
  {
   "cell_type": "code",
   "execution_count": null,
   "metadata": {},
   "outputs": [],
   "source": [
    "os.listdir(\"./\")                        # The path \"./\" means the current directory."
   ]
  },
  {
   "cell_type": "markdown",
   "metadata": {},
   "source": [
    "The <b>os.listdir</b>(path='.') function returns a list containing the names of the entries in the directory given by `path`."
   ]
  },
  {
   "cell_type": "code",
   "execution_count": null,
   "metadata": {},
   "outputs": [],
   "source": [
    "[item for item in os.listdir(\"./\") if item.endswith(\".ipynb\")]     # a list of ipynb files in the current directory"
   ]
  },
  {
   "cell_type": "code",
   "execution_count": null,
   "metadata": {},
   "outputs": [],
   "source": [
    "os.getcwd()"
   ]
  },
  {
   "cell_type": "markdown",
   "metadata": {},
   "source": [
    "The <b>os.getcwd</b> function returns a string representing the current working directory."
   ]
  },
  {
   "cell_type": "code",
   "execution_count": null,
   "metadata": {},
   "outputs": [],
   "source": [
    "os.path.isfile(\"Module6_Files.ipynb\")"
   ]
  },
  {
   "cell_type": "markdown",
   "metadata": {},
   "source": [
    "The <b>os.path.isfile</b>(path) function returns True if `path` is an existing regular file. "
   ]
  },
  {
   "cell_type": "code",
   "execution_count": null,
   "metadata": {},
   "outputs": [],
   "source": [
    "os.path.isdir(\"classdata\")"
   ]
  },
  {
   "cell_type": "markdown",
   "metadata": {},
   "source": [
    "The <b>os.path.isdir</b>(path) function returns True if `path` is an existing directory."
   ]
  },
  {
   "cell_type": "code",
   "execution_count": null,
   "metadata": {},
   "outputs": [],
   "source": [
    "if not os.path.isdir(\"outcome\"):         # Check if there is an existing directory named outcome.\n",
    "    os.mkdir(\"outcome\")                  # Create a new directory named outcome."
   ]
  },
  {
   "cell_type": "markdown",
   "metadata": {},
   "source": [
    "The <b>os.mkdir</b>(path) function creates a directory named `path`.\n",
    "\n"
   ]
  },
  {
   "cell_type": "markdown",
   "metadata": {},
   "source": [
    "We are going to save all of our outcome files in the `outcome` directory. "
   ]
  },
  {
   "cell_type": "markdown",
   "metadata": {},
   "source": [
    "<hr>"
   ]
  },
  {
   "cell_type": "markdown",
   "metadata": {},
   "source": [
    "## Writing a File"
   ]
  },
  {
   "cell_type": "markdown",
   "metadata": {},
   "source": [
    "When writing and reading a file, the first thing you need to do is to open a file in the right mode. "
   ]
  },
  {
   "cell_type": "code",
   "execution_count": null,
   "metadata": {},
   "outputs": [],
   "source": [
    "fw = open(\"outcome/output.txt\", mode=\"w\")"
   ]
  },
  {
   "cell_type": "markdown",
   "metadata": {},
   "source": [
    "open: https://docs.python.org/3/library/functions.html#open"
   ]
  },
  {
   "cell_type": "markdown",
   "metadata": {},
   "source": [
    "The built-in <b>open</b> function opens the file provided and returns a corresponding file object. The parameter `mode` is an optional string that specifies the mode in which the file is opened. \n",
    "- \"r\": opens a file for reading. (default)\n",
    "- \"w\": opens a file for writing. Creates a new file if it does not exist, or truncates the file if it exists.\n",
    "- \"a\": opens for appending at the end of the file without truncating it. Creates a new file if it does not exist.\n",
    "- \"b\": opens in binary mode.\n",
    "- \"+\": opens a file for updating (reading and writing)"
   ]
  },
  {
   "cell_type": "markdown",
   "metadata": {},
   "source": [
    "If the file cannot be opened, an OSError is raised. "
   ]
  },
  {
   "cell_type": "code",
   "execution_count": null,
   "metadata": {},
   "outputs": [],
   "source": [
    "fw.write(\"Hello, world!\\n\")"
   ]
  },
  {
   "cell_type": "markdown",
   "metadata": {},
   "source": [
    "The <b>write</b> method writes the content of string to the file, returning the number of characters written. "
   ]
  },
  {
   "cell_type": "code",
   "execution_count": null,
   "metadata": {},
   "outputs": [],
   "source": [
    "print(\"Hello, world!\\n\", end=\"\")"
   ]
  },
  {
   "cell_type": "markdown",
   "metadata": {},
   "source": [
    "Note that writing a string to a file using the <b>write</b> method is basically similar to printing a string on a screen using the <b>print</b> function. The difference is where to write the string. "
   ]
  },
  {
   "cell_type": "code",
   "execution_count": null,
   "metadata": {},
   "outputs": [],
   "source": [
    "fw.close()"
   ]
  },
  {
   "cell_type": "markdown",
   "metadata": {},
   "source": [
    "The <b>close</b> method closes the file and immediately frees up any system resources used by it. Make sure to close the file object once you're done with it. "
   ]
  },
  {
   "cell_type": "markdown",
   "metadata": {},
   "source": [
    "After writing something to a file, always make sure to manually open the file to see if everything has been written as expected.  "
   ]
  },
  {
   "cell_type": "code",
   "execution_count": null,
   "metadata": {},
   "outputs": [],
   "source": [
    "with open(\"outcome/output.txt\", mode=\"w\") as fw:\n",
    "    fw.write(\"Hello, world!\\n\")"
   ]
  },
  {
   "cell_type": "markdown",
   "metadata": {},
   "source": [
    "It is good practice to use the <b>with</b> keyword when dealing with file objects. The advantage is that the file is properly closed after its nested block finishes whithout having to explicitly close the file with the **close** method."
   ]
  },
  {
   "cell_type": "code",
   "execution_count": null,
   "metadata": {},
   "outputs": [],
   "source": [
    "with open(\"outcome/output.csv\", \"w\") as fw:\n",
    "    # Write the header row.\n",
    "    fw.write(\"num\\n\")                # Use a new line (\\n) between rows.\n",
    "    \n",
    "    # Write the value rows.\n",
    "    for i in range(100):\n",
    "        fw.write(\"{}\\n\".format(i))"
   ]
  },
  {
   "cell_type": "markdown",
   "metadata": {},
   "source": [
    "When writing a CSV file with a single column, you need to decide the delimiter to specify the boundary between separate rows, e.g., a new line (\"\\n\")."
   ]
  },
  {
   "cell_type": "code",
   "execution_count": null,
   "metadata": {},
   "outputs": [],
   "source": [
    "with open(\"outcome/output2.csv\", \"w\") as fw:\n",
    "    # Write the header row.\n",
    "    fw.write(\"num,col1,col2\\n\")       # Use a comma (,) between columns and a new line (\\n) between rows.\n",
    "    \n",
    "    # Write the value rows.\n",
    "    for i in range(100):\n",
    "        fw.write(\"{},{},{}\\n\".format(i, i*10, i*100))"
   ]
  },
  {
   "cell_type": "markdown",
   "metadata": {},
   "source": [
    "When writing a CSV file with multiple columns, you also need to decide the delimiter to specify the boundary between separate columns, e.g., comma (\",\") or tab (\"\\t\")."
   ]
  },
  {
   "cell_type": "code",
   "execution_count": null,
   "metadata": {},
   "outputs": [],
   "source": [
    "from seaborn import load_dataset\n",
    "\n",
    "df = load_dataset(\"titanic\")\n",
    "df"
   ]
  },
  {
   "cell_type": "markdown",
   "metadata": {},
   "source": [
    "Let's write some part of data in a dataframe to a file. Specifically, we want to read the values in four columns in the Titanic dataframe row by row and write them to a CSV file. "
   ]
  },
  {
   "cell_type": "code",
   "execution_count": null,
   "metadata": {
    "scrolled": true
   },
   "outputs": [],
   "source": [
    "with open(\"outcome/my_titanic.csv\", \"w\") as fw:\n",
    "    # Write the header row.\n",
    "    header = \"index,survived,pclass,fare\\n\"\n",
    "    fw.write(header)\n",
    "    print(header, end=\"\")            # Print the header row just to check the current status.\n",
    "    \n",
    "    # Write the value rows.\n",
    "    for idx, row in df.iterrows():\n",
    "        survived = row.survived\n",
    "        pclass = row.pclass\n",
    "        fare = row.fare\n",
    "        \n",
    "        line = \"{},{},{},{}\\n\".format(idx, survived, pclass, fare)\n",
    "        fw.write(line)\n",
    "        print(line, end=\"\")           # Print each row to check the current status."
   ]
  },
  {
   "cell_type": "markdown",
   "metadata": {},
   "source": [
    "<hr>"
   ]
  },
  {
   "cell_type": "markdown",
   "metadata": {},
   "source": [
    "## Reading a File"
   ]
  },
  {
   "cell_type": "code",
   "execution_count": null,
   "metadata": {},
   "outputs": [],
   "source": [
    "with open(\"outcome/output.txt\", \"r\") as fr:\n",
    "    content = fr.read()                    # Read the whole content in the file.\n",
    "    print(content) "
   ]
  },
  {
   "cell_type": "code",
   "execution_count": null,
   "metadata": {},
   "outputs": [],
   "source": [
    "with open(\"outcome/output2.csv\", \"r\") as fr:\n",
    "    for line in fr:                        # Read the file line by line. \n",
    "        print(line, end=\"\")"
   ]
  },
  {
   "cell_type": "code",
   "execution_count": null,
   "metadata": {
    "scrolled": true
   },
   "outputs": [],
   "source": [
    "with open(\"outcome/output2.csv\", \"r\") as fr:\n",
    "    lines = fr.readlines()                 # Read the whole content in the file as a list of lines.\n",
    "                                           # Not recommended if the file is too large to be loaded in memory.\n",
    "    for line in lines:\n",
    "        print(line, end=\"\")"
   ]
  },
  {
   "cell_type": "code",
   "execution_count": null,
   "metadata": {},
   "outputs": [],
   "source": [
    "with open(\"outcome/output2.csv\", \"r\") as fr:\n",
    "    lines = fr.readlines()                 # Read the whole content in the file as a list of lines.\n",
    "    \n",
    "    # Decompose the header row into coloumn names\n",
    "    header = lines[0]\n",
    "    header = header.rstrip()               # Remove the trailing new line in the header.\n",
    "    num, col1, col2 = header.split(\",\")\n",
    "    \n",
    "    # Decompose each line into values\n",
    "    for line in lines[1:]:                 # Start from the second row.\n",
    "        line = line.rstrip()               # Remove the trailing new line in each line.\n",
    "        num_val, col1_val, col2_val = line.split(\",\")\n",
    "        print(\"{}: {}, {}: {}, {}: {}\".format(num, num_val, col1, col1_val, col2, col2_val))"
   ]
  },
  {
   "cell_type": "code",
   "execution_count": null,
   "metadata": {},
   "outputs": [],
   "source": [
    "open(\"outcome/outputtt.csv\", \"r\")"
   ]
  },
  {
   "cell_type": "markdown",
   "metadata": {},
   "source": [
    "## Exercises for File Writing and Reading"
   ]
  },
  {
   "cell_type": "markdown",
   "metadata": {},
   "source": [
    "<hr>"
   ]
  },
  {
   "cell_type": "markdown",
   "metadata": {},
   "source": [
    "## Reading and Writing a CSV File Using Pandas"
   ]
  },
  {
   "cell_type": "code",
   "execution_count": null,
   "metadata": {},
   "outputs": [],
   "source": [
    "import pandas as pd     "
   ]
  },
  {
   "cell_type": "code",
   "execution_count": null,
   "metadata": {},
   "outputs": [],
   "source": [
    "df = pd.read_csv(\"outcome/ex_titanic2.csv\")\n",
    "df"
   ]
  },
  {
   "cell_type": "markdown",
   "metadata": {},
   "source": [
    "pandas.read_csv: https://pandas.pydata.org/pandas-docs/stable/reference/api/pandas.read_csv.html"
   ]
  },
  {
   "cell_type": "markdown",
   "metadata": {},
   "source": [
    "When you need to read a CSV file and analyze the content in a tabular format with rows and columns, it is a good idea to read the file into a Pandas dataframe. "
   ]
  },
  {
   "cell_type": "code",
   "execution_count": null,
   "metadata": {
    "scrolled": false
   },
   "outputs": [],
   "source": [
    "df = pd.read_csv(\"outcome/ex_titanic2.csv\", sep=\"\\t\")\n",
    "df"
   ]
  },
  {
   "cell_type": "code",
   "execution_count": null,
   "metadata": {},
   "outputs": [],
   "source": [
    "df = pd.read_csv(\"https://people.sc.fsu.edu/~jburkardt/data/csv/biostats.csv\")\n",
    "df"
   ]
  },
  {
   "cell_type": "code",
   "execution_count": null,
   "metadata": {},
   "outputs": [],
   "source": [
    "# ! pip install --user openpyxl xlrd xlsxwriter "
   ]
  },
  {
   "cell_type": "code",
   "execution_count": null,
   "metadata": {},
   "outputs": [],
   "source": [
    "df = pd.read_excel(\"http://go.microsoft.com/fwlink/?LinkID=521962\", sheet_name=\"Sheet1\")\n",
    "df"
   ]
  },
  {
   "cell_type": "markdown",
   "metadata": {},
   "source": [
    "pandas.read_excel: https://pandas.pydata.org/pandas-docs/stable/reference/api/pandas.read_excel.html"
   ]
  },
  {
   "cell_type": "code",
   "execution_count": null,
   "metadata": {},
   "outputs": [],
   "source": [
    "df.to_csv(\"outcome/my_data.csv\", sep=\",\", index=False)"
   ]
  },
  {
   "cell_type": "markdown",
   "metadata": {},
   "source": [
    "pandas.DataFrame.to_csv: https://pandas.pydata.org/pandas-docs/stable/reference/api/pandas.DataFrame.to_csv.html"
   ]
  },
  {
   "cell_type": "code",
   "execution_count": null,
   "metadata": {},
   "outputs": [],
   "source": [
    "df.to_excel(\"outcome/my_data.xls\", sheet_name=\"Sheet1\", index=False, engine='xlsxwriter')"
   ]
  },
  {
   "cell_type": "markdown",
   "metadata": {},
   "source": [
    "pandas.DataFrame.to_excel: https://pandas.pydata.org/pandas-docs/stable/reference/api/pandas.DataFrame.to_excel.html"
   ]
  },
  {
   "cell_type": "markdown",
   "metadata": {},
   "source": [
    "<hr>"
   ]
  },
  {
   "cell_type": "markdown",
   "metadata": {},
   "source": [
    "## Writing and Reading a JSON File"
   ]
  },
  {
   "cell_type": "markdown",
   "metadata": {},
   "source": [
    "JSON, which stands for JavaScript Object Notation, is one of the most commonly used formats for data transfer. It is preferred, because it is clean, easy to read, and easy to parse. Many websites provide JSON-enabled APIs, or Application Programming Interfaces. "
   ]
  },
  {
   "cell_type": "code",
   "execution_count": null,
   "metadata": {},
   "outputs": [],
   "source": [
    "import json"
   ]
  },
  {
   "cell_type": "code",
   "execution_count": null,
   "metadata": {},
   "outputs": [],
   "source": [
    "states = {\"IL\": \"Illinois\", \"WI\": \"Wisconsin\", \"IA\": \"Iowa\", \"NE\": \"Nebraska\", \"MN\": \"Minnesota\"}\n",
    "states"
   ]
  },
  {
   "cell_type": "code",
   "execution_count": null,
   "metadata": {},
   "outputs": [],
   "source": [
    "with open(\"outcome/my_states.json\", \"w\") as fw:\n",
    "    json.dump(states, fw)"
   ]
  },
  {
   "cell_type": "markdown",
   "metadata": {},
   "source": [
    "The <b>json.dump</b>(obj, fp, ...) function serializes `obj` as a JSON formatted stream to `fp`."
   ]
  },
  {
   "cell_type": "markdown",
   "metadata": {},
   "source": [
    "Writing a Python object to a file is called serialization. If you manually open the JSON file and see the content, you will see that it looks just like a Python dictionary. "
   ]
  },
  {
   "cell_type": "code",
   "execution_count": null,
   "metadata": {},
   "outputs": [],
   "source": [
    "with open(\"outcome/my_states.json\", \"r\") as fr:\n",
    "    states_new = json.load(fr)"
   ]
  },
  {
   "cell_type": "markdown",
   "metadata": {},
   "source": [
    "The <b>json.load</b>(fp, ...) deserializes `fp` to a Python object. "
   ]
  },
  {
   "cell_type": "markdown",
   "metadata": {},
   "source": [
    "Reading a file back into a Python object is called deserialization. "
   ]
  },
  {
   "cell_type": "code",
   "execution_count": null,
   "metadata": {},
   "outputs": [],
   "source": [
    "states_new"
   ]
  },
  {
   "cell_type": "code",
   "execution_count": null,
   "metadata": {},
   "outputs": [],
   "source": [
    "status = {'created_at': 'Mon Oct 14 03:07:35 +0000 2019',\n",
    " 'id': 1183580078518743041,\n",
    " 'id_str': '1183580078518743041',\n",
    " 'text': '@Charalanahzard Those rumors are false',\n",
    " 'truncated': False,\n",
    " 'entities': {'hashtags': [],\n",
    "  'symbols': [],\n",
    "  'user_mentions': [{'screen_name': 'Charalanahzard',\n",
    "    'name': 'Alanah Pearce',\n",
    "    'id': 96997907,\n",
    "    'id_str': '96997907',\n",
    "    'indices': [0, 15]}],\n",
    "  'urls': []},\n",
    " 'source': '<a href=\"http://twitter.com/download/iphone\" rel=\"nofollow\">Twitter for iPhone</a>',\n",
    " 'in_reply_to_status_id': 1183499365077225472,\n",
    " 'in_reply_to_status_id_str': '1183499365077225472',\n",
    " 'in_reply_to_user_id': 96997907,\n",
    " 'in_reply_to_user_id_str': '96997907',\n",
    " 'in_reply_to_screen_name': 'Charalanahzard',\n",
    " 'user': {'id': 44196397,\n",
    "  'id_str': '44196397',\n",
    "  'name': 'Elon Musk',\n",
    "  'screen_name': 'elonmusk',\n",
    "  'location': '',\n",
    "  'description': '',\n",
    "  'url': None,\n",
    "  'entities': {'description': {'urls': []}},\n",
    "  'protected': False,\n",
    "  'followers_count': 28672988,\n",
    "  'friends_count': 80,\n",
    "  'listed_count': 51716,\n",
    "  'created_at': 'Tue Jun 02 20:12:29 +0000 2009',\n",
    "  'favourites_count': 4062,\n",
    "  'utc_offset': None,\n",
    "  'time_zone': None,\n",
    "  'geo_enabled': False,\n",
    "  'verified': True,\n",
    "  'statuses_count': 9065,\n",
    "  'lang': None,\n",
    "  'contributors_enabled': False,\n",
    "  'is_translator': False,\n",
    "  'is_translation_enabled': False,\n",
    "  'profile_background_color': 'C0DEED',\n",
    "  'profile_background_image_url': 'http://abs.twimg.com/images/themes/theme1/bg.png',\n",
    "  'profile_background_image_url_https': 'https://abs.twimg.com/images/themes/theme1/bg.png',\n",
    "  'profile_background_tile': False,\n",
    "  'profile_image_url': 'http://pbs.twimg.com/profile_images/1178009465674747907/k5fzT65B_normal.jpg',\n",
    "  'profile_image_url_https': 'https://pbs.twimg.com/profile_images/1178009465674747907/k5fzT65B_normal.jpg',\n",
    "  'profile_banner_url': 'https://pbs.twimg.com/profile_banners/44196397/1556675519',\n",
    "  'profile_link_color': '0084B4',\n",
    "  'profile_sidebar_border_color': 'C0DEED',\n",
    "  'profile_sidebar_fill_color': 'DDEEF6',\n",
    "  'profile_text_color': '333333',\n",
    "  'profile_use_background_image': True,\n",
    "  'has_extended_profile': True,\n",
    "  'default_profile': False,\n",
    "  'default_profile_image': False,\n",
    "  'following': True,\n",
    "  'follow_request_sent': False,\n",
    "  'notifications': False,\n",
    "  'translator_type': 'none'},\n",
    " 'geo': None,\n",
    " 'coordinates': None,\n",
    " 'place': None,\n",
    " 'contributors': None,\n",
    " 'is_quote_status': False,\n",
    " 'retweet_count': 413,\n",
    " 'favorite_count': 10413,\n",
    " 'favorited': False,\n",
    " 'retweeted': False,\n",
    " 'lang': 'en'}"
   ]
  },
  {
   "cell_type": "markdown",
   "metadata": {},
   "source": [
    "Tweet Object: https://developer.twitter.com/en/docs/tweets/data-dictionary/overview/tweet-object"
   ]
  },
  {
   "cell_type": "code",
   "execution_count": null,
   "metadata": {},
   "outputs": [],
   "source": [
    "type(status)"
   ]
  },
  {
   "cell_type": "code",
   "execution_count": null,
   "metadata": {},
   "outputs": [],
   "source": [
    "status2 = {'created_at': 'Sun Oct 13 22:28:12 +0000 2019',\n",
    " 'id': 1183509770382135297,\n",
    " 'id_str': '1183509770382135297',\n",
    " 'text': '@TeslaGong Coming v soon',\n",
    " 'truncated': False,\n",
    " 'entities': {'hashtags': [],\n",
    "  'symbols': [],\n",
    "  'user_mentions': [{'screen_name': 'TeslaGong',\n",
    "    'name': 'Tesla in the Gong ( I am a Tesla 🤖 )',\n",
    "    'id': 1008296232261783552,\n",
    "    'id_str': '1008296232261783552',\n",
    "    'indices': [0, 10]}],\n",
    "  'urls': []},\n",
    " 'source': '<a href=\"http://twitter.com/download/iphone\" rel=\"nofollow\">Twitter for iPhone</a>',\n",
    " 'in_reply_to_status_id': 1183509540844605440,\n",
    " 'in_reply_to_status_id_str': '1183509540844605440',\n",
    " 'in_reply_to_user_id': 1008296232261783552,\n",
    " 'in_reply_to_user_id_str': '1008296232261783552',\n",
    " 'in_reply_to_screen_name': 'TeslaGong',\n",
    " 'user': {'id': 44196397,\n",
    "  'id_str': '44196397',\n",
    "  'name': 'Elon Musk',\n",
    "  'screen_name': 'elonmusk',\n",
    "  'location': '',\n",
    "  'description': '',\n",
    "  'url': None,\n",
    "  'entities': {'description': {'urls': []}},\n",
    "  'protected': False,\n",
    "  'followers_count': 28672988,\n",
    "  'friends_count': 80,\n",
    "  'listed_count': 51716,\n",
    "  'created_at': 'Tue Jun 02 20:12:29 +0000 2009',\n",
    "  'favourites_count': 4062,\n",
    "  'utc_offset': None,\n",
    "  'time_zone': None,\n",
    "  'geo_enabled': False,\n",
    "  'verified': True,\n",
    "  'statuses_count': 9065,\n",
    "  'lang': None,\n",
    "  'contributors_enabled': False,\n",
    "  'is_translator': False,\n",
    "  'is_translation_enabled': False,\n",
    "  'profile_background_color': 'C0DEED',\n",
    "  'profile_background_image_url': 'http://abs.twimg.com/images/themes/theme1/bg.png',\n",
    "  'profile_background_image_url_https': 'https://abs.twimg.com/images/themes/theme1/bg.png',\n",
    "  'profile_background_tile': False,\n",
    "  'profile_image_url': 'http://pbs.twimg.com/profile_images/1178009465674747907/k5fzT65B_normal.jpg',\n",
    "  'profile_image_url_https': 'https://pbs.twimg.com/profile_images/1178009465674747907/k5fzT65B_normal.jpg',\n",
    "  'profile_banner_url': 'https://pbs.twimg.com/profile_banners/44196397/1556675519',\n",
    "  'profile_link_color': '0084B4',\n",
    "  'profile_sidebar_border_color': 'C0DEED',\n",
    "  'profile_sidebar_fill_color': 'DDEEF6',\n",
    "  'profile_text_color': '333333',\n",
    "  'profile_use_background_image': True,\n",
    "  'has_extended_profile': True,\n",
    "  'default_profile': False,\n",
    "  'default_profile_image': False,\n",
    "  'following': True,\n",
    "  'follow_request_sent': False,\n",
    "  'notifications': False,\n",
    "  'translator_type': 'none'},\n",
    " 'geo': None,\n",
    " 'coordinates': None,\n",
    " 'place': None,\n",
    " 'contributors': None,\n",
    " 'is_quote_status': False,\n",
    " 'retweet_count': 28,\n",
    " 'favorite_count': 513,\n",
    " 'favorited': False,\n",
    " 'retweeted': False,\n",
    " 'lang': 'en'}"
   ]
  },
  {
   "cell_type": "code",
   "execution_count": null,
   "metadata": {},
   "outputs": [],
   "source": [
    "status3 = {'created_at': 'Sun Oct 13 09:27:47 +0000 2019',\n",
    " 'id': 1183313372885839873,\n",
    " 'id_str': '1183313372885839873',\n",
    " 'text': 'Space Jam should’ve won the Oscar https://t.co/E7l2DCAxDH',\n",
    " 'truncated': False,\n",
    " 'entities': {'hashtags': [],\n",
    "  'symbols': [],\n",
    "  'user_mentions': [],\n",
    "  'urls': [],\n",
    "  'media': [{'id': 1183313363851341824,\n",
    "    'id_str': '1183313363851341824',\n",
    "    'indices': [34, 57],\n",
    "    'media_url': 'http://pbs.twimg.com/media/EGv5PCZU8AA7PZJ.jpg',\n",
    "    'media_url_https': 'https://pbs.twimg.com/media/EGv5PCZU8AA7PZJ.jpg',\n",
    "    'url': 'https://t.co/E7l2DCAxDH',\n",
    "    'display_url': 'pic.twitter.com/E7l2DCAxDH',\n",
    "    'expanded_url': 'https://twitter.com/elonmusk/status/1183313372885839873/photo/1',\n",
    "    'type': 'photo',\n",
    "    'sizes': {'thumb': {'w': 150, 'h': 150, 'resize': 'crop'},\n",
    "     'medium': {'w': 1023, 'h': 529, 'resize': 'fit'},\n",
    "     'large': {'w': 1023, 'h': 529, 'resize': 'fit'},\n",
    "     'small': {'w': 680, 'h': 352, 'resize': 'fit'}}}]},\n",
    " 'extended_entities': {'media': [{'id': 1183313363851341824,\n",
    "    'id_str': '1183313363851341824',\n",
    "    'indices': [34, 57],\n",
    "    'media_url': 'http://pbs.twimg.com/media/EGv5PCZU8AA7PZJ.jpg',\n",
    "    'media_url_https': 'https://pbs.twimg.com/media/EGv5PCZU8AA7PZJ.jpg',\n",
    "    'url': 'https://t.co/E7l2DCAxDH',\n",
    "    'display_url': 'pic.twitter.com/E7l2DCAxDH',\n",
    "    'expanded_url': 'https://twitter.com/elonmusk/status/1183313372885839873/photo/1',\n",
    "    'type': 'photo',\n",
    "    'sizes': {'thumb': {'w': 150, 'h': 150, 'resize': 'crop'},\n",
    "     'medium': {'w': 1023, 'h': 529, 'resize': 'fit'},\n",
    "     'large': {'w': 1023, 'h': 529, 'resize': 'fit'},\n",
    "     'small': {'w': 680, 'h': 352, 'resize': 'fit'}}}]},\n",
    " 'source': '<a href=\"http://twitter.com/download/iphone\" rel=\"nofollow\">Twitter for iPhone</a>',\n",
    " 'in_reply_to_status_id': None,\n",
    " 'in_reply_to_status_id_str': None,\n",
    " 'in_reply_to_user_id': None,\n",
    " 'in_reply_to_user_id_str': None,\n",
    " 'in_reply_to_screen_name': None,\n",
    " 'user': {'id': 44196397,\n",
    "  'id_str': '44196397',\n",
    "  'name': 'Elon Musk',\n",
    "  'screen_name': 'elonmusk',\n",
    "  'location': '',\n",
    "  'description': '',\n",
    "  'url': None,\n",
    "  'entities': {'description': {'urls': []}},\n",
    "  'protected': False,\n",
    "  'followers_count': 28672988,\n",
    "  'friends_count': 80,\n",
    "  'listed_count': 51716,\n",
    "  'created_at': 'Tue Jun 02 20:12:29 +0000 2009',\n",
    "  'favourites_count': 4062,\n",
    "  'utc_offset': None,\n",
    "  'time_zone': None,\n",
    "  'geo_enabled': False,\n",
    "  'verified': True,\n",
    "  'statuses_count': 9065,\n",
    "  'lang': None,\n",
    "  'contributors_enabled': False,\n",
    "  'is_translator': False,\n",
    "  'is_translation_enabled': False,\n",
    "  'profile_background_color': 'C0DEED',\n",
    "  'profile_background_image_url': 'http://abs.twimg.com/images/themes/theme1/bg.png',\n",
    "  'profile_background_image_url_https': 'https://abs.twimg.com/images/themes/theme1/bg.png',\n",
    "  'profile_background_tile': False,\n",
    "  'profile_image_url': 'http://pbs.twimg.com/profile_images/1178009465674747907/k5fzT65B_normal.jpg',\n",
    "  'profile_image_url_https': 'https://pbs.twimg.com/profile_images/1178009465674747907/k5fzT65B_normal.jpg',\n",
    "  'profile_banner_url': 'https://pbs.twimg.com/profile_banners/44196397/1556675519',\n",
    "  'profile_link_color': '0084B4',\n",
    "  'profile_sidebar_border_color': 'C0DEED',\n",
    "  'profile_sidebar_fill_color': 'DDEEF6',\n",
    "  'profile_text_color': '333333',\n",
    "  'profile_use_background_image': True,\n",
    "  'has_extended_profile': True,\n",
    "  'default_profile': False,\n",
    "  'default_profile_image': False,\n",
    "  'following': True,\n",
    "  'follow_request_sent': False,\n",
    "  'notifications': False,\n",
    "  'translator_type': 'none'},\n",
    " 'geo': None,\n",
    " 'coordinates': None,\n",
    " 'place': None,\n",
    " 'contributors': None,\n",
    " 'is_quote_status': False,\n",
    " 'retweet_count': 13349,\n",
    " 'favorite_count': 117950,\n",
    " 'favorited': False,\n",
    " 'retweeted': False,\n",
    " 'possibly_sensitive': False,\n",
    " 'lang': 'en'}"
   ]
  },
  {
   "cell_type": "code",
   "execution_count": null,
   "metadata": {},
   "outputs": [],
   "source": [
    "statuses = [status, status2, status3]"
   ]
  },
  {
   "cell_type": "code",
   "execution_count": null,
   "metadata": {},
   "outputs": [],
   "source": [
    "type(statuses)"
   ]
  },
  {
   "cell_type": "code",
   "execution_count": null,
   "metadata": {},
   "outputs": [],
   "source": [
    "with open(\"outcome/my_statuses.json\", \"w\") as fw:\n",
    "    json.dump(statuses, fw)"
   ]
  },
  {
   "cell_type": "code",
   "execution_count": null,
   "metadata": {},
   "outputs": [],
   "source": [
    "with open(\"outcome/my_statuses.json\", \"r\") as fr:\n",
    "    statuses_new = json.load(fr)"
   ]
  },
  {
   "cell_type": "code",
   "execution_count": null,
   "metadata": {
    "scrolled": false
   },
   "outputs": [],
   "source": [
    "statuses_new[0]"
   ]
  },
  {
   "cell_type": "markdown",
   "metadata": {},
   "source": [
    "## Exercises for JSON File Writing and Reading"
   ]
  }
 ],
 "metadata": {
  "kernelspec": {
   "display_name": "Python 3",
   "language": "python",
   "name": "python3"
  },
  "language_info": {
   "codemirror_mode": {
    "name": "ipython",
    "version": 3
   },
   "file_extension": ".py",
   "mimetype": "text/x-python",
   "name": "python",
   "nbconvert_exporter": "python",
   "pygments_lexer": "ipython3",
   "version": "3.8.0"
  }
 },
 "nbformat": 4,
 "nbformat_minor": 1
}
